{
  "nbformat": 4,
  "nbformat_minor": 0,
  "metadata": {
    "colab": {
      "provenance": []
    },
    "kernelspec": {
      "name": "python3",
      "display_name": "Python 3"
    },
    "language_info": {
      "name": "python"
    }
  },
  "cells": [
    {
      "cell_type": "code",
      "execution_count": null,
      "metadata": {
        "id": "nbo2S25K_Sl7"
      },
      "outputs": [],
      "source": []
    },
    {
      "cell_type": "markdown",
      "source": [
        "# 1. **Significance of Python Keywords:**\n",
        "\n",
        "   Python keywords are reserved words with predefined meanings, crucial for defining syntax and control flow. They cannot be used as identifiers. Examples: `if`, `else`, `for`, `while`, `def`.\n",
        "\n",
        "# 2. **Rules for Defining Identifiers in Python:**\n",
        "\n",
        "   Identifiers can contain letters, digits, and underscores, but must start with a letter or underscore. They're case-sensitive and cannot be Python keywords. Example: `my_variable = 10`.\n",
        "\n",
        "# 3. **Comments in Python:**\n",
        "\n",
        "   Non-executable lines for explaining code or making notes. They enhance readability and understanding. Example:\n",
        "   ```python\n",
        "   # This is a comment\n",
        "   ```\n",
        "\n",
        "# 4. **Importance of Proper Indentation in Python:**\n",
        "\n",
        "   Proper indentation defines code structure and hierarchy, affecting program logic. Incorrect indentation leads to syntax errors or unexpected behavior.\n",
        "\n",
        "\n",
        "# 5. **Effect of Incorrect Indentation in Python:**\n",
        "\n",
        "   Incorrect indentation causes syntax errors or logical errors, disrupting code interpretation and execution.\n",
        "\n",
        "# 6. **Difference between Expression and Statement in Python:**\n",
        "\n",
        "   Expression combines values, variables, operators yielding a result. Statements are units of execution containing actions like assignments, function calls, or control structures. Examples: `x + y` (expression), `x = 5` (statement)."
      ],
      "metadata": {
        "id": "Rf4ji6jZ_T0A"
      }
    }
  ]
}