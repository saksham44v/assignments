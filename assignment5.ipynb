{
 "cells": [
  {
   "cell_type": "code",
   "execution_count": 20,
   "id": "218eea15-1302-45d2-af65-41ac22067e4c",
   "metadata": {},
   "outputs": [
    {
     "name": "stdout",
     "output_type": "stream",
     "text": [
      "1\n",
      "2\n",
      "3\n",
      "4\n"
     ]
    }
   ],
   "source": [
    "#1 Write a program to print numbers from 1 to 10, but stop if the number is 5.\n",
    "i=1\n",
    "while i<=10:\n",
    "    if i==5:\n",
    "        break\n",
    "    print(i)\n",
    "    i+=1\n"
   ]
  },
  {
   "cell_type": "code",
   "execution_count": 21,
   "id": "286d6b7b-75a6-4eee-9075-4be12ccc2f0f",
   "metadata": {},
   "outputs": [
    {
     "name": "stdout",
     "output_type": "stream",
     "text": [
      "2\n",
      "343\n",
      "56\n",
      "232\n",
      "execution stops due to negative value\n"
     ]
    }
   ],
   "source": [
    "#2. Write a program to iterate through a list and stop when encountering a specific element.\n",
    "mylist=[2,343,56,232,-38,38,83687,0]\n",
    "for i in mylist:\n",
    "    if i<0:\n",
    "        print(\"execution stops due to encountering negative value\")\n",
    "        break\n",
    "    print(i)\n",
    "    "
   ]
  },
  {
   "cell_type": "code",
   "execution_count": 23,
   "id": "6460bbc7-120d-4f78-ab88-1dd1b9ba269d",
   "metadata": {},
   "outputs": [
    {
     "name": "stdout",
     "output_type": "stream",
     "text": [
      "1\n",
      "3\n",
      "5\n",
      "7\n",
      "9\n"
     ]
    }
   ],
   "source": [
    "#3 E Write a program to skip printing even numbers from 1 to 10.\n",
    "for i in range(1,11):\n",
    "    if i%2==0:\n",
    "        continue\n",
    "    print(i)"
   ]
  },
  {
   "cell_type": "code",
   "execution_count": null,
   "id": "d1506cc2-f1e6-4c16-aeb1-6b09ddce0a25",
   "metadata": {},
   "outputs": [],
   "source": [
    "#4 W Write a program to print numbers from 0 to 9 using range().\n",
    "for num in range(10):\n",
    "    print(num)"
   ]
  },
  {
   "cell_type": "code",
   "execution_count": null,
   "id": "8acc1475-0e88-4ce4-8733-2a4f58cc2f11",
   "metadata": {},
   "outputs": [],
   "source": [
    "#6 Write a program to skip printing even numbers using a while loop.\n",
    "while i<=10:\n",
    "    \n",
    "    if i%2==0:\n",
    "        i+=1\n",
    "        continue\n",
    "    print(i)\n",
    "    i+=1\n",
    "    \n"
   ]
  },
  {
   "cell_type": "code",
   "execution_count": null,
   "id": "22c49020-821c-4bf0-87ff-3823a44e944e",
   "metadata": {},
   "outputs": [],
   "source": []
  }
 ],
 "metadata": {
  "kernelspec": {
   "display_name": "Python 3 (ipykernel)",
   "language": "python",
   "name": "python3"
  },
  "language_info": {
   "codemirror_mode": {
    "name": "ipython",
    "version": 3
   },
   "file_extension": ".py",
   "mimetype": "text/x-python",
   "name": "python",
   "nbconvert_exporter": "python",
   "pygments_lexer": "ipython3",
   "version": "3.10.8"
  }
 },
 "nbformat": 4,
 "nbformat_minor": 5
}
