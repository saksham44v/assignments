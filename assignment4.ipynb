{
 "cells": [
  {
   "cell_type": "code",
   "execution_count": 5,
   "id": "218eea15-1302-45d2-af65-41ac22067e4c",
   "metadata": {},
   "outputs": [
    {
     "name": "stdout",
     "output_type": "stream",
     "text": [
      "1\n",
      "2\n",
      "3\n",
      "4\n",
      "5\n"
     ]
    }
   ],
   "source": [
    "# 1.Print nmber from 1 to 5 uing a while loop.\n",
    "i=1\n",
    "while i<=5:\n",
    "    print(i)\n",
    "    i=i+1\n",
    "\n"
   ]
  },
  {
   "cell_type": "code",
   "execution_count": 7,
   "id": "b94aeb13-050c-4021-a2af-3cdd77b7ab0e",
   "metadata": {},
   "outputs": [
    {
     "name": "stdout",
     "output_type": "stream",
     "text": [
      "sum of number 1-10 is 55\n"
     ]
    }
   ],
   "source": [
    "# 2.Calclate the m of nmber from 1 to 10 ing a while loop.\n",
    "i=1\n",
    "sum=0\n",
    "while i<=10:\n",
    "    sum+=i\n",
    "    i+=1\n",
    "print(\"sum of number 1-10 is\",sum)"
   ]
  },
  {
   "cell_type": "code",
   "execution_count": null,
   "id": "b005cbeb-d62c-48a5-b392-71241f7be5b2",
   "metadata": {},
   "outputs": [
    {
     "name": "stdin",
     "output_type": "stream",
     "text": [
      "enter numbers whose factorial need to be calculated 5\n"
     ]
    },
    {
     "name": "stdout",
     "output_type": "stream",
     "text": [
      "factorial of 5 is 120\n"
     ]
    }
   ],
   "source": [
    "#3Calclate the factorial of a nmber ing a for loop.\n",
    "fact=1\n",
    "num=int(input(\"enter numbers whose factorial need to be calculated\"))\n",
    "for i in range(2,num+1):\n",
    "    fact*=i\n",
    "print(f\"factorial of {num} is {fact}\")"
   ]
  },
  {
   "cell_type": "code",
   "execution_count": 10,
   "id": "0c173df2-d435-42fc-bd70-dda31ba2847c",
   "metadata": {},
   "outputs": [
    {
     "name": "stdin",
     "output_type": "stream",
     "text": [
      "enter a string aeiouc\n"
     ]
    },
    {
     "name": "stdout",
     "output_type": "stream",
     "text": [
      "number of vowels in enetered string is 5\n"
     ]
    }
   ],
   "source": [
    "#4  Cont the nmber of vowel in a tring ing a for loop.\n",
    "string= input(\"enter a string\")\n",
    "count=0\n",
    "for i in string:\n",
    "    if i=='a' or i=='e' or i=='i' or i=='o' or i=='u':\n",
    "        count+=1\n",
    "print(\"number of vowels in enetered string is\",count)"
   ]
  },
  {
   "cell_type": "code",
   "execution_count": 17,
   "id": "6a6005d0-cf99-4382-bcee-0399e913c22c",
   "metadata": {},
   "outputs": [
    {
     "name": "stdout",
     "output_type": "stream",
     "text": [
      "*  \n",
      "* *  \n",
      "* * *  \n",
      "* * * *  \n",
      "* * * * *  \n"
     ]
    }
   ],
   "source": [
    "#5  Print a pattern using neted loop.\n",
    "for i in range(1,6):\n",
    "    for j in range(1,i+1):\n",
    "        print(\"*\",end=\" \")\n",
    "    print(\" \")\n",
    "        "
   ]
  },
  {
   "cell_type": "code",
   "execution_count": 19,
   "id": "83070567-8016-4904-b130-cc174332da04",
   "metadata": {},
   "outputs": [
    {
     "name": "stdin",
     "output_type": "stream",
     "text": [
      "enter number whose table need to be printed 5\n"
     ]
    },
    {
     "name": "stdout",
     "output_type": "stream",
     "text": [
      "5 * 1 = 5\n",
      "5 * 2 = 10\n",
      "5 * 3 = 15\n",
      "5 * 4 = 20\n",
      "5 * 5 = 25\n",
      "5 * 6 = 30\n",
      "5 * 7 = 35\n",
      "5 * 8 = 40\n",
      "5 * 9 = 45\n",
      "5 * 10 = 50\n"
     ]
    }
   ],
   "source": [
    "#6 Generate a multiplication table using nested loop.\n",
    "num=int(input(\"enter number whose table need to be printed\"))\n",
    "for i in range(1,11):\n",
    "    for j in range(i,i+1):\n",
    "        print(num,\"*\",i,\"=\",num*i)\n",
    "        "
   ]
  },
  {
   "cell_type": "code",
   "execution_count": null,
   "id": "06ec0519-705b-4fed-88cb-03e0830af29f",
   "metadata": {},
   "outputs": [],
   "source": []
  }
 ],
 "metadata": {
  "kernelspec": {
   "display_name": "Python 3 (ipykernel)",
   "language": "python",
   "name": "python3"
  },
  "language_info": {
   "codemirror_mode": {
    "name": "ipython",
    "version": 3
   },
   "file_extension": ".py",
   "mimetype": "text/x-python",
   "name": "python",
   "nbconvert_exporter": "python",
   "pygments_lexer": "ipython3",
   "version": "3.10.8"
  }
 },
 "nbformat": 4,
 "nbformat_minor": 5
}
