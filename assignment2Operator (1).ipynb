{
 "cells": [
  {
   "cell_type": "code",
   "execution_count": 4,
   "id": "22b67395-6c9a-4067-b7af-97aaab7db6c4",
   "metadata": {},
   "outputs": [
    {
     "name": "stdout",
     "output_type": "stream",
     "text": [
      "sum is : 110\n",
      "difference is: 90\n",
      "product is: 1000\n",
      "quotient is: 10.0\n"
     ]
    }
   ],
   "source": [
    "# 1 Calculate the sum, difference, product, and quotient of two numbers.\n",
    "num1 = 100\n",
    "num2 = 10\n",
    "sum = num1 + num2 \n",
    "print(\"sum is :\",sum)\n",
    "difference = num1-num2\n",
    "print(\"difference is:\",difference)\n",
    "product = num1*num2\n",
    "print(\"product is:\" ,product)\n",
    "quotient = num1/num2\n",
    "print(\"quotient is:\" ,quotient)"
   ]
  },
  {
   "cell_type": "code",
   "execution_count": 10,
   "id": "7d29fd0c-bd49-4e4d-bf8f-9919e1be49c1",
   "metadata": {},
   "outputs": [
    {
     "name": "stdout",
     "output_type": "stream",
     "text": [
      "10\n",
      "12\n",
      "60\n",
      "30.0\n",
      "27000.0\n",
      "13500.0\n",
      "0.0\n"
     ]
    }
   ],
   "source": [
    "# 2 Perform various assignment operations on a variable.\n",
    "num = 10\n",
    "print(num)\n",
    "num += 2\n",
    "print(num)\n",
    "num *= 5\n",
    "print(num)\n",
    "num /= 2\n",
    "print(num)\n",
    "num **= 3\n",
    "print(num)\n",
    "num //= 2\n",
    "print(num)\n",
    "num %= 2\n",
    "print(num)\n"
   ]
  },
  {
   "cell_type": "code",
   "execution_count": 18,
   "id": "a9221850-7045-41b9-a4e4-eb2cf6a706ae",
   "metadata": {},
   "outputs": [
    {
     "name": "stdout",
     "output_type": "stream",
     "text": [
      "False\n",
      "True\n"
     ]
    }
   ],
   "source": [
    "# 3 Compare two numbers and print the results.\n",
    "num3 = 100\n",
    "num4 = 200\n",
    "num5 = num3 > num4\n",
    "print(num5)\n",
    "print(num4>num3)"
   ]
  },
  {
   "cell_type": "code",
   "execution_count": 21,
   "id": "da8468c6-3526-4eb5-b10d-0c0f7b7c9639",
   "metadata": {},
   "outputs": [
    {
     "name": "stdout",
     "output_type": "stream",
     "text": [
      "b is greater than both a and c\n",
      "c is greater than either a or b\n"
     ]
    }
   ],
   "source": [
    "# 4 Check conditions using logical operators.\n",
    "a = 10 \n",
    "b =100\n",
    "c = 59\n",
    "if b>a and b>c:\n",
    "    print(\"b is greater than both a and c\")\n",
    "if c>a or c>b:\n",
    "    print(\"c is greater than either a or b\")\n",
    "    "
   ]
  },
  {
   "cell_type": "code",
   "execution_count": 22,
   "id": "bcb629cf-c78d-4c73-b3c0-b2628ebdb4bd",
   "metadata": {},
   "outputs": [
    {
     "name": "stdout",
     "output_type": "stream",
     "text": [
      "Identity of x: 139660392022544\n",
      "Identity of y: 139660346615792\n",
      "Identity of z: 139660324715968\n"
     ]
    }
   ],
   "source": [
    "# 5 Check the identity of variables.\n",
    "x = 10\n",
    "y = \"hello\"\n",
    "z = [1, 2, 3]\n",
    "\n",
    "identity_x = id(x)\n",
    "identity_y = id(y)\n",
    "identity_z = id(z)\n",
    "\n",
    "print(\"Identity of x:\", identity_x)\n",
    "print(\"Identity of y:\", identity_y)\n",
    "print(\"Identity of z:\", identity_z)\n"
   ]
  },
  {
   "cell_type": "code",
   "execution_count": 23,
   "id": "f5f50e78-60f7-4277-865f-54399bd146c5",
   "metadata": {},
   "outputs": [
    {
     "name": "stdout",
     "output_type": "stream",
     "text": [
      "Bitwise AND: 2\n",
      "Bitwise OR: 15\n",
      "Bitwise XOR: 13\n",
      "Bitwise NOT of a: -11\n",
      "Bitwise left shift of a: 40\n",
      "Bitwise right shift of b: 3\n"
     ]
    }
   ],
   "source": [
    "# 6 Perform bitwise operations on any two integers.\n",
    "a = 10  \n",
    "b = 7  \n",
    "\n",
    "# Perform bitwise AND operation\n",
    "result_and = a & b\n",
    "print(\"Bitwise AND:\", result_and) \n",
    "\n",
    "# Perform bitwise OR operation\n",
    "result_or = a | b\n",
    "print(\"Bitwise OR:\", result_or)  \n",
    "\n",
    "# Perform bitwise XOR operation\n",
    "result_xor = a ^ b\n",
    "print(\"Bitwise XOR:\", result_xor) \n",
    "\n",
    "# Perform bitwise NOT operation\n",
    "result_not_a = ~a\n",
    "print(\"Bitwise NOT of a:\", result_not_a) \n",
    "\n",
    "# Perform bitwise left shift operation\n",
    "result_left_shift = a << 2\n",
    "print(\"Bitwise left shift of a:\", result_left_shift) \n",
    "\n",
    "# Perform bitwise right shift operation\n",
    "result_right_shift = b >> 1\n",
    "print(\"Bitwise right shift of b:\", result_right_shift) \n"
   ]
  },
  {
   "cell_type": "code",
   "execution_count": 30,
   "id": "a543593f-59a4-4896-9835-9c51f07d347b",
   "metadata": {},
   "outputs": [
    {
     "name": "stdout",
     "output_type": "stream",
     "text": [
      "False\n",
      "2\n",
      "5\n",
      "2\n"
     ]
    }
   ],
   "source": [
    "# 7 Use unary operators to change the sign of a number.\n",
    "x = True\n",
    "y = not x\n",
    "print(y)\n",
    "\n",
    "x *= 2\n",
    "print(x)\n",
    "x += 3\n",
    "print(x)\n",
    "x -= 3\n",
    "print(x)"
   ]
  },
  {
   "cell_type": "code",
   "execution_count": 31,
   "id": "0095d7d8-aea7-480d-a5a6-7ece4d574985",
   "metadata": {},
   "outputs": [
    {
     "name": "stdout",
     "output_type": "stream",
     "text": [
      "High\n"
     ]
    }
   ],
   "source": [
    "#8 \n",
    "threshold = 500 \n",
    "revenue = 1000\n",
    "\n",
    "sales = \"High\" if revenue > threshold else \"Low\"\n",
    "\n",
    "print(sales)  # O\n"
   ]
  },
  {
   "cell_type": "code",
   "execution_count": null,
   "id": "8b33064a-56b7-4575-90ed-959bac68dc46",
   "metadata": {},
   "outputs": [],
   "source": []
  }
 ],
 "metadata": {
  "kernelspec": {
   "display_name": "Python 3 (ipykernel)",
   "language": "python",
   "name": "python3"
  },
  "language_info": {
   "codemirror_mode": {
    "name": "ipython",
    "version": 3
   },
   "file_extension": ".py",
   "mimetype": "text/x-python",
   "name": "python",
   "nbconvert_exporter": "python",
   "pygments_lexer": "ipython3",
   "version": "3.10.8"
  }
 },
 "nbformat": 4,
 "nbformat_minor": 5
}
