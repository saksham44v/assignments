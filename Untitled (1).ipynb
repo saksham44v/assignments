{
 "cells": [
  {
   "cell_type": "code",
   "execution_count": 2,
   "id": "218eea15-1302-45d2-af65-41ac22067e4c",
   "metadata": {},
   "outputs": [
    {
     "name": "stdout",
     "output_type": "stream",
     "text": [
      "2.0\n",
      "<class 'float'>\n"
     ]
    }
   ],
   "source": [
    "# Covert a iteger to a floatig-poit umber.\n",
    "\n",
    "a=2\n",
    "float_num=float(a)\n",
    "print(float_num)\n",
    "print(type(float_num))\n"
   ]
  },
  {
   "cell_type": "code",
   "execution_count": 3,
   "id": "5e4695b0-0472-4a6a-8532-47a9e9e3960c",
   "metadata": {},
   "outputs": [
    {
     "name": "stdout",
     "output_type": "stream",
     "text": [
      "7\n",
      "<class 'int'>\n"
     ]
    }
   ],
   "source": [
    "#Covert a float to a iteger.\n",
    "b=7.8\n",
    "num=int(b)\n",
    "print(num)\n",
    "print(type(num))\n",
    "\n"
   ]
  },
  {
   "cell_type": "code",
   "execution_count": 4,
   "id": "b0db9b3a-e221-45bd-8191-d0d40ea5edf7",
   "metadata": {},
   "outputs": [
    {
     "name": "stdout",
     "output_type": "stream",
     "text": [
      "7\n",
      "<class 'str'>\n"
     ]
    }
   ],
   "source": [
    "# 3 Covert a iteger to a strig.\n",
    "b=7\n",
    "newstring=str(b)\n",
    "print(newstring)\n",
    "print(type(newstring))\n",
    "\n"
   ]
  },
  {
   "cell_type": "code",
   "execution_count": 7,
   "id": "55b771f8-4c96-413b-8f2a-8a901b7a089d",
   "metadata": {},
   "outputs": [
    {
     "name": "stdout",
     "output_type": "stream",
     "text": [
      "(1, 23, 4, 3, 1)\n",
      "<class 'tuple'>\n"
     ]
    }
   ],
   "source": [
    "#  4. Covert a list to a tuple.\n",
    "mylist=[1,23,4,3,1]\n",
    "mytuple=tuple(mylist)\n",
    "print(mytuple)\n",
    "print(type(mytuple))"
   ]
  },
  {
   "cell_type": "code",
   "execution_count": 8,
   "id": "9a15837e-7293-4f31-90fb-3eadc58ef03b",
   "metadata": {},
   "outputs": [
    {
     "name": "stdout",
     "output_type": "stream",
     "text": [
      "[1, 23, 4, 3, 1]\n",
      "<class 'list'>\n"
     ]
    }
   ],
   "source": [
    "# 5 . convert a tuple to a list\n",
    "mytuple=(1,23,4,3,1)\n",
    "mylist=list(mytuple)\n",
    "print(mylist)\n",
    "print(type(mylist))"
   ]
  },
  {
   "cell_type": "code",
   "execution_count": 9,
   "id": "75e3aa96-8d6b-494d-8751-8ed654eedc54",
   "metadata": {},
   "outputs": [
    {
     "name": "stdout",
     "output_type": "stream",
     "text": [
      "0b111\n"
     ]
    }
   ],
   "source": [
    "# 6 convert a decimal number to binary number\n",
    "num=7\n",
    "print(bin(num))"
   ]
  },
  {
   "cell_type": "code",
   "execution_count": 11,
   "id": "6399f3c0-55c5-4079-b3b3-55655e956a71",
   "metadata": {},
   "outputs": [
    {
     "name": "stdout",
     "output_type": "stream",
     "text": [
      "True\n",
      "<class 'bool'>\n"
     ]
    }
   ],
   "source": [
    "#7  Covert a o-zero number to boolean.\n",
    "num=-652\n",
    "boolnum=bool(num)\n",
    "print(boolnum)\n",
    "print(type(boolnum))"
   ]
  },
  {
   "cell_type": "code",
   "execution_count": null,
   "id": "468eb028-18dc-428a-ade6-f6951ac824b6",
   "metadata": {},
   "outputs": [],
   "source": []
  }
 ],
 "metadata": {
  "kernelspec": {
   "display_name": "Python 3 (ipykernel)",
   "language": "python",
   "name": "python3"
  },
  "language_info": {
   "codemirror_mode": {
    "name": "ipython",
    "version": 3
   },
   "file_extension": ".py",
   "mimetype": "text/x-python",
   "name": "python",
   "nbconvert_exporter": "python",
   "pygments_lexer": "ipython3",
   "version": "3.10.8"
  }
 },
 "nbformat": 4,
 "nbformat_minor": 5
}
